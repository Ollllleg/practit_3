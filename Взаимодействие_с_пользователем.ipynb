{
 "cells": [
  {
   "cell_type": "code",
   "execution_count": 2,
   "id": "170c1e4a",
   "metadata": {},
   "outputs": [
    {
     "name": "stdout",
     "output_type": "stream",
     "text": [
      "Введите ip, оставьте пустым для установления значения по умолчанию:127.0.0.1: \n",
      "Ip введен\n",
      "Введите порт от 1024 до 65535, оставьте пустым для установления значения по умолчанию:3212: \n",
      "Соединение с сервером: 127.0.0.1:3212\n",
      "Прием данных от сервера 127.0.0.1:3212 : Вы не зарегистрированы. Зарегистрируйтесь в формате: \"Имя\" \"пароль\"\n"
     ]
    },
    {
     "ename": "KeyboardInterrupt",
     "evalue": "Interrupted by user",
     "output_type": "error",
     "traceback": [
      "\u001b[1;31m---------------------------------------------------------------------------\u001b[0m",
      "\u001b[1;31mKeyboardInterrupt\u001b[0m                         Traceback (most recent call last)",
      "\u001b[1;32m~\\AppData\\Local\\Temp/ipykernel_22456/2645593892.py\u001b[0m in \u001b[0;36m<module>\u001b[1;34m\u001b[0m\n\u001b[0;32m     58\u001b[0m         \u001b[0mprint\u001b[0m\u001b[1;33m(\u001b[0m\u001b[1;34m\"Разрыв соединения с сервером: \"\u001b[0m \u001b[1;33m+\u001b[0m \u001b[0mip\u001b[0m \u001b[1;33m+\u001b[0m \u001b[1;34m\":\"\u001b[0m \u001b[1;33m+\u001b[0m \u001b[0mstr\u001b[0m\u001b[1;33m(\u001b[0m\u001b[0mport\u001b[0m\u001b[1;33m)\u001b[0m\u001b[1;33m)\u001b[0m\u001b[1;33m\u001b[0m\u001b[1;33m\u001b[0m\u001b[0m\n\u001b[0;32m     59\u001b[0m         \u001b[1;32mbreak\u001b[0m\u001b[1;33m\u001b[0m\u001b[1;33m\u001b[0m\u001b[0m\n\u001b[1;32m---> 60\u001b[1;33m     \u001b[0mmsg\u001b[0m \u001b[1;33m=\u001b[0m \u001b[0minput\u001b[0m\u001b[1;33m(\u001b[0m\u001b[1;33m)\u001b[0m\u001b[1;33m\u001b[0m\u001b[1;33m\u001b[0m\u001b[0m\n\u001b[0m\u001b[0;32m     61\u001b[0m     \u001b[0msock\u001b[0m\u001b[1;33m.\u001b[0m\u001b[0msend\u001b[0m\u001b[1;33m(\u001b[0m\u001b[0mmsg\u001b[0m\u001b[1;33m.\u001b[0m\u001b[0mencode\u001b[0m\u001b[1;33m(\u001b[0m\u001b[1;33m)\u001b[0m\u001b[1;33m)\u001b[0m\u001b[1;33m\u001b[0m\u001b[1;33m\u001b[0m\u001b[0m\n\u001b[0;32m     62\u001b[0m     \u001b[0mprint\u001b[0m\u001b[1;33m(\u001b[0m\u001b[1;34m\"Отправка данных серверу \"\u001b[0m \u001b[1;33m+\u001b[0m \u001b[0mip\u001b[0m \u001b[1;33m+\u001b[0m \u001b[1;34m\":\"\u001b[0m \u001b[1;33m+\u001b[0m \u001b[0mstr\u001b[0m\u001b[1;33m(\u001b[0m\u001b[0mport\u001b[0m\u001b[1;33m)\u001b[0m \u001b[1;33m+\u001b[0m \u001b[1;34m\" : \"\u001b[0m \u001b[1;33m+\u001b[0m \u001b[0mmsg\u001b[0m\u001b[1;33m)\u001b[0m\u001b[1;33m\u001b[0m\u001b[1;33m\u001b[0m\u001b[0m\n",
      "\u001b[1;32m~\\AppData\\Local\\Programs\\Python\\Python39\\lib\\site-packages\\ipykernel\\kernelbase.py\u001b[0m in \u001b[0;36mraw_input\u001b[1;34m(self, prompt)\u001b[0m\n\u001b[0;32m   1004\u001b[0m                 \u001b[1;34m\"raw_input was called, but this frontend does not support input requests.\"\u001b[0m\u001b[1;33m\u001b[0m\u001b[1;33m\u001b[0m\u001b[0m\n\u001b[0;32m   1005\u001b[0m             )\n\u001b[1;32m-> 1006\u001b[1;33m         return self._input_request(\n\u001b[0m\u001b[0;32m   1007\u001b[0m             \u001b[0mstr\u001b[0m\u001b[1;33m(\u001b[0m\u001b[0mprompt\u001b[0m\u001b[1;33m)\u001b[0m\u001b[1;33m,\u001b[0m\u001b[1;33m\u001b[0m\u001b[1;33m\u001b[0m\u001b[0m\n\u001b[0;32m   1008\u001b[0m             \u001b[0mself\u001b[0m\u001b[1;33m.\u001b[0m\u001b[0m_parent_ident\u001b[0m\u001b[1;33m[\u001b[0m\u001b[1;34m\"shell\"\u001b[0m\u001b[1;33m]\u001b[0m\u001b[1;33m,\u001b[0m\u001b[1;33m\u001b[0m\u001b[1;33m\u001b[0m\u001b[0m\n",
      "\u001b[1;32m~\\AppData\\Local\\Programs\\Python\\Python39\\lib\\site-packages\\ipykernel\\kernelbase.py\u001b[0m in \u001b[0;36m_input_request\u001b[1;34m(self, prompt, ident, parent, password)\u001b[0m\n\u001b[0;32m   1049\u001b[0m             \u001b[1;32mexcept\u001b[0m \u001b[0mKeyboardInterrupt\u001b[0m\u001b[1;33m:\u001b[0m\u001b[1;33m\u001b[0m\u001b[1;33m\u001b[0m\u001b[0m\n\u001b[0;32m   1050\u001b[0m                 \u001b[1;31m# re-raise KeyboardInterrupt, to truncate traceback\u001b[0m\u001b[1;33m\u001b[0m\u001b[1;33m\u001b[0m\u001b[0m\n\u001b[1;32m-> 1051\u001b[1;33m                 \u001b[1;32mraise\u001b[0m \u001b[0mKeyboardInterrupt\u001b[0m\u001b[1;33m(\u001b[0m\u001b[1;34m\"Interrupted by user\"\u001b[0m\u001b[1;33m)\u001b[0m \u001b[1;32mfrom\u001b[0m \u001b[1;32mNone\u001b[0m\u001b[1;33m\u001b[0m\u001b[1;33m\u001b[0m\u001b[0m\n\u001b[0m\u001b[0;32m   1052\u001b[0m             \u001b[1;32mexcept\u001b[0m \u001b[0mException\u001b[0m\u001b[1;33m:\u001b[0m\u001b[1;33m\u001b[0m\u001b[1;33m\u001b[0m\u001b[0m\n\u001b[0;32m   1053\u001b[0m                 \u001b[0mself\u001b[0m\u001b[1;33m.\u001b[0m\u001b[0mlog\u001b[0m\u001b[1;33m.\u001b[0m\u001b[0mwarning\u001b[0m\u001b[1;33m(\u001b[0m\u001b[1;34m\"Invalid Message:\"\u001b[0m\u001b[1;33m,\u001b[0m \u001b[0mexc_info\u001b[0m\u001b[1;33m=\u001b[0m\u001b[1;32mTrue\u001b[0m\u001b[1;33m)\u001b[0m\u001b[1;33m\u001b[0m\u001b[1;33m\u001b[0m\u001b[0m\n",
      "\u001b[1;31mKeyboardInterrupt\u001b[0m: Interrupted by user"
     ]
    }
   ],
   "source": [
    "import socket\n",
    "\n",
    "default_port = \"3212\"\n",
    "default_ip = \"127.0.0.1\"\n",
    "debagmode = False\n",
    "\n",
    "\n",
    "def get_ip_port():\n",
    "    ip_found = False\n",
    "    port_found = False\n",
    "    global default_port\n",
    "    global default_ip\n",
    "    global debagmode\n",
    "    input_ip = ''\n",
    "    while not ip_found:\n",
    "        if not debagmode:\n",
    "            input_ip = input(\n",
    "                'Введите ip, оставьте пустым для установления значения по умолчанию:' + default_ip + ': ')\n",
    "        else:\n",
    "            input_ip = default_ip\n",
    "        if input_ip == \"\":\n",
    "            input_ip = default_ip\n",
    "        splitted_ip = input_ip.split(\".\")\n",
    "        if len(splitted_ip) != 4:\n",
    "            print(\"Ошибка при вводе\")\n",
    "            continue\n",
    "        for i in splitted_ip:\n",
    "            if not i.isdigit() or 0 > int(i) or int(i) > 255:\n",
    "                print(\"Ошибка при вводе\")\n",
    "                continue\n",
    "        ip_found = True\n",
    "        print(\"Ip введен\")\n",
    "    input_port = ''\n",
    "    while not port_found:\n",
    "        if not debagmode:\n",
    "            input_port = input(\n",
    "                'Введите порт от 1024 до 65535, оставьте пустым для установления значения по умолчанию:' + default_port + ': ')\n",
    "        if input_port == \"\":\n",
    "            input_port = default_port\n",
    "        if input_port.isdigit() and 1024 <= int(input_port) <= 65535:\n",
    "            input_port = int(input_port)\n",
    "            port_found = True\n",
    "        else:\n",
    "            print(\"Ошибка при вводе\")\n",
    "    return input_ip, input_port\n",
    "\n",
    "\n",
    "ip, port = get_ip_port()\n",
    "sock = socket.socket()\n",
    "sock.setblocking(1)\n",
    "sock.connect((ip, port))\n",
    "print(\"Соединение с сервером: \" + ip + \":\" + str(port))\n",
    "while True:\n",
    "    data = sock.recv(1024)\n",
    "    print(\"Прием данных от сервера \" + ip + \":\" + str(port) + \" : \" + data.decode())\n",
    "    if data.decode() == 'exit':\n",
    "        sock.close()\n",
    "        print(\"Разрыв соединения с сервером: \" + ip + \":\" + str(port))\n",
    "        break\n",
    "    msg = input()\n",
    "    sock.send(msg.encode())\n",
    "    print(\"Отправка данных серверу \" + ip + \":\" + str(port) + \" : \" + msg)\n",
    "    exit_check = msg.lower()\n",
    "    "
   ]
  }
 ],
 "metadata": {
  "kernelspec": {
   "display_name": "Python 3 (ipykernel)",
   "language": "python",
   "name": "python3"
  },
  "language_info": {
   "codemirror_mode": {
    "name": "ipython",
    "version": 3
   },
   "file_extension": ".py",
   "mimetype": "text/x-python",
   "name": "python",
   "nbconvert_exporter": "python",
   "pygments_lexer": "ipython3",
   "version": "3.9.7"
  }
 },
 "nbformat": 4,
 "nbformat_minor": 5
}
